{
 "cells": [
  {
   "cell_type": "markdown",
   "id": "88386eed",
   "metadata": {},
   "source": [
    "# FIAM Hackathon"
   ]
  },
  {
   "cell_type": "markdown",
   "id": "f917de62",
   "metadata": {},
   "source": [
    "## Importing the Necessary Libraries"
   ]
  },
  {
   "cell_type": "code",
   "execution_count": 1,
   "id": "7ba0cee5",
   "metadata": {},
   "outputs": [],
   "source": [
    "import pandas as pd \n",
    "import pandas_datareader.data as web\n",
    "import numpy as np \n",
    "import yfinance as yf \n",
    "import matplotlib.pyplot as plt \n",
    "import seaborn as sns \n",
    "import scipy as sp \n",
    "from sklearn import preprocessing, decomposition, model_selection, linear_model, feature_selection, ensemble, metrics  \n",
    "rs = np.random.seed(123)\n",
    "# pd.set_option(\"display.max_rows\", None)  \n",
    "# pd.set_option(\"display.max_columns\", None) \n",
    "pd.set_option(\"display.float_format\", \"{:.4f}\".format) \n",
    "import warnings \n",
    "warnings.filterwarnings(\"ignore\") "
   ]
  },
  {
   "cell_type": "code",
   "execution_count": 2,
   "id": "95da0539",
   "metadata": {},
   "outputs": [],
   "source": [
    "from matplotlib_inline.backend_inline import set_matplotlib_formats\n",
    "set_matplotlib_formats(\"svg\") "
   ]
  },
  {
   "cell_type": "markdown",
   "id": "d5f0e95e",
   "metadata": {},
   "source": [
    "## Loading the Data "
   ]
  },
  {
   "cell_type": "code",
   "execution_count": 3,
   "id": "24b9fe6a",
   "metadata": {},
   "outputs": [],
   "source": [
    "ticker_data = pd.read_csv(\"C:/Users/khail/OneDrive/Desktop/Github Projects/ticker_data.csv\", parse_dates = [\"date\"])\n",
    "ticker_data[\"date\"] = ticker_data[\"date\"].dt.strftime(\"%Y-%m\")\n",
    "ticker_data[\"date\"] = pd.to_datetime(ticker_data[\"date\"]) \n",
    "ticker_data.sort_values(by = [\"date\", \"stock_ticker\"], inplace = True, ignore_index = True)"
   ]
  },
  {
   "cell_type": "code",
   "execution_count": 4,
   "id": "fbd1354b",
   "metadata": {},
   "outputs": [
    {
     "data": {
      "text/plain": [
       "(273373, 160)"
      ]
     },
     "execution_count": 4,
     "metadata": {},
     "output_type": "execute_result"
    }
   ],
   "source": [
    "ticker_data.shape "
   ]
  },
  {
   "cell_type": "markdown",
   "id": "13479b94",
   "metadata": {},
   "source": [
    "## Variable Explanation "
   ]
  },
  {
   "cell_type": "markdown",
   "id": "286e66ad",
   "metadata": {},
   "source": [
    "- **age** : Firm age\n",
    "- **aliq_at** : Liquidity of book assets \n",
    "- **aliq_mat** : Liquidity of market assets \n",
    "- **ami_126d** : Amihud measure\n",
    "- **at_be** : Book leverage\n",
    "- **at_gr1** : Asset growth \n",
    "- **at_me** : Assets-to-market\n",
    "- **at_turnover** : Capital turnover "
   ]
  },
  {
   "cell_type": "markdown",
   "id": "ff3b79df",
   "metadata": {},
   "source": [
    "- **be_gr1a** : Change in common equity\n",
    "- **be_me** : Book-to-market equity\n",
    "- **beta_60m** : Market beta\n",
    "- **beta_dimson_21d** : Dimson beta\n",
    "- **betabab_1260d** : Frazzini-Pedersen market beta\n",
    "- **betadown_252d** : Downside beta\n",
    "- **bev_mev** : Book-to-market enterprise value \n",
    "- **bidaskhl_21d** : High-low bid-ask spread"
   ]
  },
  {
   "cell_type": "markdown",
   "id": "e9dcc2af",
   "metadata": {},
   "source": [
    "- **capex_abn** : Abnormal corporate investment\n",
    "- **capx_gr1** : CAPEX growth (1 year)\n",
    "- **capx_gr2** : CAPEX growth (2 years)\n",
    "- **capx_gr3** : CAPEX growth (3 years)\n",
    "- **cash_at** : Cash-to-assets \n",
    "- **chcsho_12m** : Net stock issues \n",
    "- **coa_gr1a** : Change in current operating assets \n",
    "- **col_gr1a** : Change in current operating liabilities\n",
    "- **cop_at** : Cash-based operating profits-to-book assets\n",
    "- **cop_atl1** : Cash-based operating profits-to-lagged book assets\n",
    "- **corr_1260d** : Market correlation\n",
    "- **coskew_21d** : Coskewness\n",
    "- **cowc_gr1a** : Change in current operating working capital "
   ]
  },
  {
   "cell_type": "markdown",
   "id": "b136e6fd",
   "metadata": {},
   "source": [
    "- **dbnetis_at** : Net debt issuance\n",
    "- **debt_gr3** : Growth in book debt (3 years)\n",
    "- **debt_me** : Debt-to-market \n",
    "- **dgp_dsale** : Change gross margin minus change sales\n",
    "- **div12m_me** : Dividend yield\n",
    "- **dolvol_126d** : Dollar trading volume (126 days)\n",
    "- **dolvol_var_126d** : Coefficient of variation for dollar trading volume\n",
    "- **dsale_dinv** : Change sales minus change Inventory\n",
    "- **dsale_drec** : Change sales minus change receivables\n",
    "- **dsale_dsga** : Change sales minus change SG&A"
   ]
  },
  {
   "cell_type": "markdown",
   "id": "e831465f",
   "metadata": {},
   "source": [
    "- **earnings_variability** : Earnings variability\n",
    "- **ebit_bev** : Return on net operating assets\n",
    "- **ebit_sale** : Profit margin\n",
    "- **ebitda_mev** : Ebitda-to-market enterprise value\n",
    "- **emp_gr1** : Hiring rate\n",
    "- **eq_dur** : Equity duration\n",
    "- **eqnetis_at** : Net equity issuance\n",
    "- **eqnpo_12m** : Equity net payout\n",
    "- **eqnpo_me** : Net payout yield\n",
    "- **eqpo_me** : Payout yield"
   ]
  },
  {
   "cell_type": "markdown",
   "id": "3f363ffa",
   "metadata": {},
   "source": [
    "- **f_score** : Pitroski F-score\n",
    "- **fcf_me** : Free cash flow-to-price\n",
    "- **fnl_gr1a** : Change in financial liabilities\n",
    "- **gp_at** : Gross profits-to-assets \n",
    "- **gp_atl1** : Gross profits-to-lagged assets"
   ]
  },
  {
   "cell_type": "markdown",
   "id": "00005ef5",
   "metadata": {},
   "source": [
    "- **intrinsic_value** : Intrinsic value-to-market\n",
    "- **inv_gr1** : Inventory growth\n",
    "- **inv_gr1a** : Inventory change\n",
    "- **iskew_capm_21d** : Idiosyncratic skewness from CAPM\n",
    "- **iskew_ff3_21d** : Idiosyncratic skewness from the Farma-French 3-factor model\n",
    "- **iskew_hxz4_21d** : Idiosyncratic skewness from the q-factor model \n",
    "- **ivol_capm_21d** : Idiosyncratic volatility from the CAPM (21 days)\n",
    "- **ivol_capm_252d** : Idiosyncratic volatility from the CAPM (252 days)\n",
    "- **ivol_ff3_21d** : Idiosyncratic volatility from the Farma-French 3-factor model \n",
    "- **ivol_hxz4_21d** : Idiosyncratic volatility from the q-factor model"
   ]
  },
  {
   "cell_type": "markdown",
   "id": "a85c0fa4",
   "metadata": {},
   "source": [
    "- **kz_index** : Kaplan-Zingales index\n",
    "- **lnoa_gr1a** : Change in long-term net operating assets \n",
    "- **lti_gr1a** : Change in long-term investments \n",
    "- **market_equity** : Market equity \n",
    "- **mispricing_mgmt** : Mispricing factor : Management\n",
    "- **mispricing_perf** : Mispricing factor : Performance \n",
    "- **month** : Month \n",
    "- **mspread** : Market spread"
   ]
  },
  {
   "cell_type": "markdown",
   "id": "b6391b4d",
   "metadata": {},
   "source": [
    "- **ncoa_gr1a** : Change in non-current operating assets\n",
    "- **ncol_gr1a** : Change in non-current operating liabilities\n",
    "- **netdebt_me** : Net debt-to-price \n",
    "- **netis_at** : Net total issuance \n",
    "- **nfna_gr1a** : Change in net financial assets \n",
    "- **ni_ar1** : Earnings persistence \n",
    "- **ni_be** : Return on equity \n",
    "- **ni_inc8q** : Number of consecutive quarters with earnings increases \n",
    "- **ni_ivol** : Earnings volatility \n",
    "- **ni_me** : Earnings to price \n",
    "- **niq_at** : Quarterly return on assets \n",
    "- **niq_at_chg1** : Change in quarterly return on assets \n",
    "- **niq_be** : Quarterly return on equity \n",
    "- **niq_be_chg1** : Change in quarterly return on equity \n",
    "- **niq_su** : Standardized earnings surprise \n",
    "- **nncoa_gr1a** : Change in net operating assets \n",
    "- **noa_at** : Net operating assets \n",
    "- **noa_gr1a** : Change in net operating assets "
   ]
  },
  {
   "cell_type": "markdown",
   "id": "42325429",
   "metadata": {},
   "source": [
    "- **o_score** : Ohlson O-score\n",
    "- **oaccruals_at** : Operating accruals \n",
    "- **oaccruals_ni** : Percent operating accruals \n",
    "- **ocf_at** : Operating cash flow to assets \n",
    "- **ocf_at_chg1** : Change in operating cash flow to assets \n",
    "- **ocf_me** : Operating cash fow to market equity \n",
    "- **ocfq_saleq_std** : Standard deviation of operating cash flow to sales (quarterly)\n",
    "- **op_at** : Operating profit to assets\n",
    "- **op_atl1** : Operating profit to lagged assets \n",
    "- **ope_be** : Operating profit to book equity \n",
    "- **ope_bel1** : Operating profit to lagged book equity \n",
    "- **opex_at** : Operating expenses to assets "
   ]
  },
  {
   "cell_type": "markdown",
   "id": "9d9f509e",
   "metadata": {},
   "source": [
    "- **pi_nix** : Pre-tax income (excluding extraordinary items)\n",
    "- **ppeinv_gr1a** : PPE investments growth (1-year)\n",
    "- **prc** : Price\n",
    "- **prc_highprc_252d** : Price to 252-Day high \n",
    "- **qmj** : Quality minus junk \n",
    "- **qmj_growth** : Quality minus junk, growth subcomponent\n",
    "- **qmj_prof** : Quality minus junk, profitability subcomponent\n",
    "- **qmj_safety** : Quality minus junk, safety subcomponent"
   ]
  },
  {
   "cell_type": "markdown",
   "id": "3a45044e",
   "metadata": {},
   "source": [
    "- **rd5_at** : Research and Development (5-year average) to assets\n",
    "- **rd_me** : Research and Development to market equity\n",
    "- **rd_sale** : Research and Development to sales\n",
    "- **resff3_12_1** : Residual of the Fama-French 3-factor model (12-month, 1-month lag)\n",
    "- **resff3_6_1** : Residual of the Fama-French 3-factor model (6-month, 1-month lag)\n",
    "- **ret_1_0** : 1-month return \n",
    "- **ret_3_1** : 3-month return (excluding last month)\n",
    "- **ret_6_1** : 6-month return (excluding last month)\n",
    "- **ret_9_1** : 9-month return (excluding last month)\n",
    "- **ret_12_1** : 12-month return (excluding last month)\n",
    "- **ret_12_7** : 6-month return (7 to 12 months ago)\n",
    "- **ret_60_12** : 5-year return (excluding last year)\n",
    "- **rmax1_21d** : Maximum daily return (21 days)\n",
    "- **rmax5_21d** : Maximum 5-day return (21 days)\n",
    "- **rmax5_rvol_21d** : Maximum 5-day return to realized volatility (21 days)\n",
    "- **rskew_21d**: Return skewness (21 days)\n",
    "- **rvol_21d** : Realized volatility (21 days)"
   ]
  },
  {
   "cell_type": "markdown",
   "id": "aa614fdf",
   "metadata": {},
   "source": [
    "- **sale_bev** : Sales to book equity \n",
    "- **sale_emp_gr1** : Sales to employee growth (1 year)\n",
    "- **8sale_gr1** : Sales growth (1 year)\n",
    "- **sale_gr3** : Sales growth (3 year)\n",
    "- **sale_me** : Sales to market equity\n",
    "- **saleq_gr1** :  Quarterly sales growth (1 year)\n",
    "- **saleq_su** : Sales surprise (quarterly)\n",
    "- **seas_1_1an** : Seasonality 1-Year \n",
    "- **seas_1_1na** : Seasonality 1-Year \n",
    "- **seas_2_5an** : Seasonality 2-Year to 5-Year \n",
    "- **seas_2_5na** : Seasonality 2-Year to 5-Year  \n",
    "- **sti_gr1a** : Short-term investment growth (1 year) "
   ]
  },
  {
   "cell_type": "markdown",
   "id": "a97aab6d",
   "metadata": {},
   "source": [
    "- **taccruals_at** :\n",
    "- **taccruals_ni** :\n",
    "- **tangibility** : Asset tangibility\n",
    "- **tax_gr1a** : Tax expense surprise \n",
    "- **turnover_126d** : Share turnover \n",
    "- **turnover_var_126d** : Coefficient of variation for share turnover "
   ]
  },
  {
   "cell_type": "markdown",
   "id": "55b0458a",
   "metadata": {},
   "source": [
    "- **year** : Year\n",
    "- **z_score** : Altman Z-score\n",
    "- **zero_trades_126d** : Number of zero trades with turnover as tiebreaker (6 months)\n",
    "- **zero_trades_21d** : Number of zero trades with turnover as tiebreaker (1 month)\n",
    "- **zero_trades_252d** : Number of zero trades with turnover as tiebreaker (12 months) "
   ]
  },
  {
   "cell_type": "markdown",
   "id": "276aa566",
   "metadata": {},
   "source": [
    "## 1. Data Preparation"
   ]
  },
  {
   "cell_type": "markdown",
   "id": "f537027e",
   "metadata": {},
   "source": [
    "### 1.1 Drop Uninformative Features "
   ]
  },
  {
   "cell_type": "code",
   "execution_count": 5,
   "id": "c68086ff",
   "metadata": {},
   "outputs": [],
   "source": [
    "ticker_data.drop(columns = [\"exchcd\", \"shrcd\", \"rf\"], inplace = True)"
   ]
  },
  {
   "cell_type": "markdown",
   "id": "c75cf1f2",
   "metadata": {},
   "source": [
    "### 1.2 Drop Forward Looking Features "
   ]
  },
  {
   "cell_type": "code",
   "execution_count": 6,
   "id": "77dafc59",
   "metadata": {},
   "outputs": [],
   "source": [
    "ticker_data.drop(columns = [\"eps_medest\", \"eps_meanest\", \"eps_stdevest\", \"eps_actual\"], inplace = True)"
   ]
  },
  {
   "cell_type": "markdown",
   "id": "06b6feee",
   "metadata": {},
   "source": [
    "### 1.3 Drop Observations with Missing Tickers"
   ]
  },
  {
   "cell_type": "code",
   "execution_count": 7,
   "id": "277256ad",
   "metadata": {},
   "outputs": [],
   "source": [
    "ticker_data.dropna(subset = [\"stock_ticker\"], inplace = True)"
   ]
  },
  {
   "cell_type": "markdown",
   "id": "fc406a24",
   "metadata": {},
   "source": [
    "### 1.4 Dummy Variables : Month & Sector"
   ]
  },
  {
   "cell_type": "code",
   "execution_count": 8,
   "id": "9e0ec33f",
   "metadata": {},
   "outputs": [],
   "source": [
    "month_mapper = {1 : \"Jan\", 2 : \"Feb\", 3 : \"Mar\", 4 : \"Apr\", 5 : \"May\", 6 : \"Jun\", \n",
    "          7 : \"Jul\", 8 : \"Aug\", 9 : \"Sept\", 10 : \"Oct\", 11 : \"Nov\", 12 : \"Dec\"}\n",
    "ticker_data[\"month\"] = ticker_data[\"month\"].map(month_mapper)"
   ]
  },
  {
   "cell_type": "code",
   "execution_count": 9,
   "id": "8d244774",
   "metadata": {},
   "outputs": [],
   "source": [
    "ticker_data = pd.get_dummies(data = ticker_data , columns = [\"month\"], drop_first = True, \n",
    "                             dtype = \"int\", prefix = \"\", prefix_sep = \"\")"
   ]
  },
  {
   "cell_type": "markdown",
   "id": "7bb2f239",
   "metadata": {},
   "source": [
    "### 1.5 Filter for the Most Traded Stocks Per Month "
   ]
  },
  {
   "cell_type": "code",
   "execution_count": 10,
   "id": "7bce7a9e",
   "metadata": {},
   "outputs": [],
   "source": [
    "ticker_data = ticker_data.sort_values(by = [\"date\", \"dolvol_126d\"], ascending = [True, False])\n",
    "ticker_data = ticker_data.groupby(\"date\").head(500).reset_index(drop = True)"
   ]
  },
  {
   "cell_type": "markdown",
   "id": "548bc81f",
   "metadata": {},
   "source": [
    "### 1.6 In-Sample Vs Out-of-Sample"
   ]
  },
  {
   "cell_type": "code",
   "execution_count": 11,
   "id": "090b21bd",
   "metadata": {},
   "outputs": [],
   "source": [
    "ticker_data[\"date\"] = ticker_data[\"date\"].dt.strftime(\"%Y-%m\")\n",
    "ticker_train = ticker_data[(ticker_data[\"date\"] >= \"2000-01\") & (ticker_data[\"date\"] < \"2010-01\")].copy( )\n",
    "ticker_test = ticker_data[(ticker_data[\"date\"] >= \"2010-01\")].copy( )"
   ]
  },
  {
   "cell_type": "markdown",
   "id": "41a684b8",
   "metadata": {},
   "source": [
    "## 2. Custom Time Series CV "
   ]
  },
  {
   "cell_type": "markdown",
   "id": "42ed53d5",
   "metadata": {},
   "source": [
    "### 2.1 Rolling Fixed Window : Avoiding Lookahead Bias"
   ]
  },
  {
   "cell_type": "code",
   "execution_count": 12,
   "id": "6d4ac663",
   "metadata": {},
   "outputs": [],
   "source": [
    "class RollingTimeSeriesCV :\n",
    "    \n",
    "    def __init__(self, train_duration, test_duration, lookahead, n_splits) :\n",
    "        self.test_duration = test_duration \n",
    "        self.train_duration = train_duration \n",
    "        self.lookahead = lookahead\n",
    "        self.n_splits = n_splits\n",
    "\n",
    "    def split(self, X, y = None, groups = None) :\n",
    "\n",
    "        unique_dates = X[\"date\"].unique( )  ## Extract unique dates \n",
    "        days = sorted(unique_dates, reverse = True)   ## Sort unique dates in descending order \n",
    "        \n",
    "        split_idx = [  ]\n",
    "        for i in range(self.n_splits) :\n",
    "            \n",
    "            test_end_idx = i * self.test_duration \n",
    "            test_start_idx = test_end_idx + self.test_duration - 1\n",
    "                \n",
    "            train_end_idx = test_start_idx + 1 + self.lookahead \n",
    "            train_start_idx = train_end_idx + self.train_duration - 1 \n",
    "            \n",
    "            split_idx.append([train_start_idx, train_end_idx, test_start_idx, test_end_idx])\n",
    "\n",
    "        for split in split_idx :\n",
    "            train_start_idx, train_end_idx, test_start_idx, test_end_idx = split\n",
    "    \n",
    "            # Translate indices to dates using the 'days' list\n",
    "            train_start_date = days[train_start_idx] if train_start_idx < len(days) else None\n",
    "            train_end_date = days[train_end_idx] if train_end_idx < len(days) else None\n",
    "            test_start_date = days[test_start_idx] if test_start_idx < len(days) else None\n",
    "            test_end_date = days[test_end_idx] if test_end_idx < len(days) else None\n",
    "            \n",
    "            yield train_start_date, train_end_date, test_start_date, test_end_date \n",
    "        \n",
    "    def get_n_splits(self, X, y, groups = None) :\n",
    "        return self.n_splits"
   ]
  },
  {
   "cell_type": "markdown",
   "id": "a9f7fb7b",
   "metadata": {},
   "source": [
    "### 2.2 Testing Time Series CV "
   ]
  },
  {
   "cell_type": "markdown",
   "id": "67eb2022",
   "metadata": {},
   "source": [
    "**Key Consideration** :\n",
    "> $\\text{train_duration} + \\text{test_duration} \\times \\text{n_splits} + \\text{lookahead} <= \\text{total number of months in training set}$"
   ]
  },
  {
   "cell_type": "code",
   "execution_count": 13,
   "id": "6b9bee07",
   "metadata": {},
   "outputs": [],
   "source": [
    "cv1 = RollingTimeSeriesCV(train_duration = 60, test_duration = 6, lookahead = 1, n_splits = 8)"
   ]
  },
  {
   "cell_type": "code",
   "execution_count": 14,
   "id": "b876e965",
   "metadata": {},
   "outputs": [
    {
     "name": "stdout",
     "output_type": "stream",
     "text": [
      "Train : 2004-06 to 2009-05 , Test : 2009-07 to 2009-12\n",
      "\n",
      "Train : 2003-12 to 2008-11 , Test : 2009-01 to 2009-06\n",
      "\n",
      "Train : 2003-06 to 2008-05 , Test : 2008-07 to 2008-12\n",
      "\n",
      "Train : 2002-12 to 2007-11 , Test : 2008-01 to 2008-06\n",
      "\n",
      "Train : 2002-06 to 2007-05 , Test : 2007-07 to 2007-12\n",
      "\n",
      "Train : 2001-12 to 2006-11 , Test : 2007-01 to 2007-06\n",
      "\n",
      "Train : 2001-06 to 2006-05 , Test : 2006-07 to 2006-12\n",
      "\n",
      "Train : 2000-12 to 2005-11 , Test : 2006-01 to 2006-06\n",
      "\n"
     ]
    }
   ],
   "source": [
    "for train_start_date, train_end_date, test_start_date, test_end_date in cv1.split(X = ticker_train) :\n",
    "    \n",
    "    print(f\"Train : {train_start_date} to {train_end_date} , Test : {test_start_date} to {test_end_date}\")\n",
    "    print(\"\")"
   ]
  },
  {
   "cell_type": "code",
   "execution_count": 15,
   "id": "556e7610",
   "metadata": {},
   "outputs": [],
   "source": [
    "cv2 = RollingTimeSeriesCV(train_duration = 72, test_duration = 3, lookahead = 3, n_splits = 12)"
   ]
  },
  {
   "cell_type": "code",
   "execution_count": 16,
   "id": "b40dc97f",
   "metadata": {},
   "outputs": [
    {
     "name": "stdout",
     "output_type": "stream",
     "text": [
      "Train : 2003-07 to 2009-06 , Test : 2009-10 to 2009-12\n",
      "\n",
      "Train : 2003-04 to 2009-03 , Test : 2009-07 to 2009-09\n",
      "\n",
      "Train : 2003-01 to 2008-12 , Test : 2009-04 to 2009-06\n",
      "\n",
      "Train : 2002-10 to 2008-09 , Test : 2009-01 to 2009-03\n",
      "\n",
      "Train : 2002-07 to 2008-06 , Test : 2008-10 to 2008-12\n",
      "\n",
      "Train : 2002-04 to 2008-03 , Test : 2008-07 to 2008-09\n",
      "\n",
      "Train : 2002-01 to 2007-12 , Test : 2008-04 to 2008-06\n",
      "\n",
      "Train : 2001-10 to 2007-09 , Test : 2008-01 to 2008-03\n",
      "\n",
      "Train : 2001-07 to 2007-06 , Test : 2007-10 to 2007-12\n",
      "\n",
      "Train : 2001-04 to 2007-03 , Test : 2007-07 to 2007-09\n",
      "\n",
      "Train : 2001-01 to 2006-12 , Test : 2007-04 to 2007-06\n",
      "\n",
      "Train : 2000-10 to 2006-09 , Test : 2007-01 to 2007-03\n",
      "\n"
     ]
    }
   ],
   "source": [
    "for train_start_date, train_end_date, test_start_date, test_end_date in cv2.split(X = ticker_train) :\n",
    "    \n",
    "    print(f\"Train : {train_start_date} to {train_end_date} , Test : {test_start_date} to {test_end_date}\")\n",
    "    print(\"\")"
   ]
  },
  {
   "cell_type": "markdown",
   "id": "304b417d",
   "metadata": {},
   "source": [
    "## 3. Feature Selection "
   ]
  },
  {
   "cell_type": "code",
   "execution_count": 17,
   "id": "8f0150ea",
   "metadata": {},
   "outputs": [],
   "source": [
    "X_train = ticker_train.drop(columns = [\"stock_ticker\", \"stock_exret\"]).set_index(\"date\")\n",
    "y_train = ticker_train[\"stock_exret\"]"
   ]
  },
  {
   "cell_type": "code",
   "execution_count": 18,
   "id": "f4758517",
   "metadata": {},
   "outputs": [],
   "source": [
    "X_test = ticker_test.drop(columns = [\"stock_ticker\", \"stock_exret\"]).set_index(\"date\")\n",
    "y_test = ticker_test[\"stock_exret\"]"
   ]
  },
  {
   "cell_type": "markdown",
   "id": "1818ac4a",
   "metadata": {},
   "source": [
    "### 3.1 F-Statistic "
   ]
  },
  {
   "cell_type": "code",
   "execution_count": 19,
   "id": "269fc6ae",
   "metadata": {},
   "outputs": [],
   "source": [
    "def select_features(X, y, n_features = 50) :\n",
    "    \n",
    "    selector = SelectKBest(f_regression, k = n_features)\n",
    "    selector.fit(X, y)\n",
    "    selected_features = X.columns[selector.get_support()].tolist()\n",
    "    return selected_features"
   ]
  },
  {
   "cell_type": "markdown",
   "id": "d38a56c7",
   "metadata": {},
   "source": [
    "### 3.2 Random Forest "
   ]
  },
  {
   "cell_type": "code",
   "execution_count": 139,
   "id": "899bc7ad",
   "metadata": {},
   "outputs": [],
   "source": [
    "ts_cv = model_selection.TimeSeriesSplit(n_splits = 10)\n",
    "rf_reg = ensemble.RandomForestRegressor(random_state = 42)\n",
    "rf_reg.fit(X_train, y_train)"
   ]
  },
  {
   "cell_type": "code",
   "execution_count": null,
   "id": "fbc06c58",
   "metadata": {},
   "outputs": [],
   "source": []
  }
 ],
 "metadata": {
  "kernelspec": {
   "display_name": "Python 3 (ipykernel)",
   "language": "python",
   "name": "python3"
  },
  "language_info": {
   "codemirror_mode": {
    "name": "ipython",
    "version": 3
   },
   "file_extension": ".py",
   "mimetype": "text/x-python",
   "name": "python",
   "nbconvert_exporter": "python",
   "pygments_lexer": "ipython3",
   "version": "3.11.7"
  }
 },
 "nbformat": 4,
 "nbformat_minor": 5
}
